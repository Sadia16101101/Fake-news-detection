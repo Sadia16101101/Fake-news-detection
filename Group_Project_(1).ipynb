{
  "cells": [
    {
      "cell_type": "code",
      "execution_count": null,
      "id": "90773f50",
      "metadata": {
        "id": "90773f50",
        "outputId": "0ff38a8e-4216-48ae-8b7b-9f9a5ba55031"
      },
      "outputs": [
        {
          "name": "stdout",
          "output_type": "stream",
          "text": [
            "Requirement already satisfied: xgboost in c:\\users\\administrator\\anaconda3\\lib\\site-packages (2.1.2)\n",
            "Requirement already satisfied: numpy in c:\\users\\administrator\\anaconda3\\lib\\site-packages (from xgboost) (1.24.3)\n",
            "Requirement already satisfied: scipy in c:\\users\\administrator\\anaconda3\\lib\\site-packages (from xgboost) (1.11.1)\n"
          ]
        }
      ],
      "source": [
        "!pip install xgboost"
      ]
    },
    {
      "cell_type": "markdown",
      "id": "3c916fb2",
      "metadata": {
        "id": "3c916fb2"
      },
      "source": [
        "# Import Module"
      ]
    },
    {
      "cell_type": "code",
      "execution_count": null,
      "id": "c54b5710",
      "metadata": {
        "id": "c54b5710"
      },
      "outputs": [],
      "source": [
        "import numpy as np\n",
        "import pandas as pd\n",
        "import matplotlib.pyplot as plt\n",
        "import seaborn as sns\n",
        "import re\n",
        "import nltk"
      ]
    },
    {
      "cell_type": "code",
      "execution_count": null,
      "id": "132c5371",
      "metadata": {
        "id": "132c5371",
        "outputId": "56c62a74-8def-46a7-fde4-38caae0194fb"
      },
      "outputs": [
        {
          "name": "stderr",
          "output_type": "stream",
          "text": [
            "[nltk_data] Downloading package punkt to\n",
            "[nltk_data]     C:\\Users\\Administrator\\AppData\\Roaming\\nltk_data...\n",
            "[nltk_data]   Package punkt is already up-to-date!\n",
            "[nltk_data] Downloading package punkt_tab to\n",
            "[nltk_data]     C:\\Users\\Administrator\\AppData\\Roaming\\nltk_data...\n",
            "[nltk_data]   Package punkt_tab is already up-to-date!\n",
            "[nltk_data] Downloading package stopwords to\n",
            "[nltk_data]     C:\\Users\\Administrator\\AppData\\Roaming\\nltk_data...\n",
            "[nltk_data]   Package stopwords is already up-to-date!\n",
            "[nltk_data] Downloading package wordnet to\n",
            "[nltk_data]     C:\\Users\\Administrator\\AppData\\Roaming\\nltk_data...\n",
            "[nltk_data]   Package wordnet is already up-to-date!\n"
          ]
        },
        {
          "data": {
            "text/plain": [
              "True"
            ]
          },
          "execution_count": 3,
          "metadata": {},
          "output_type": "execute_result"
        }
      ],
      "source": [
        "nltk.download('punkt')\n",
        "nltk.download('punkt_tab')\n",
        "nltk.download('stopwords')\n",
        "nltk.download('wordnet')"
      ]
    },
    {
      "cell_type": "code",
      "execution_count": null,
      "id": "9ef89bc6",
      "metadata": {
        "id": "9ef89bc6"
      },
      "outputs": [],
      "source": [
        "from nltk.tokenize import word_tokenize\n",
        "from nltk.corpus import stopwords\n",
        "from nltk.stem import WordNetLemmatizer"
      ]
    },
    {
      "cell_type": "code",
      "execution_count": null,
      "id": "7598dfd5",
      "metadata": {
        "id": "7598dfd5"
      },
      "outputs": [],
      "source": [
        "from sklearn.feature_extraction.text import TfidfVectorizer,CountVectorizer\n",
        "from sklearn.linear_model import LogisticRegression\n",
        "from sklearn.tree import DecisionTreeClassifier\n",
        "from sklearn.ensemble import RandomForestClassifier, GradientBoostingClassifier\n",
        "from sklearn.neighbors import KNeighborsClassifier\n",
        "from xgboost import XGBClassifier\n",
        "from sklearn.metrics import roc_curve,auc, RocCurveDisplay\n",
        "from sklearn.metrics import classification_report, accuracy_score\n",
        "from sklearn.pipeline import Pipeline\n",
        "from sklearn.model_selection import cross_val_score, train_test_split\n",
        "\n",
        "from urllib.parse import urlparse\n",
        "import warnings\n",
        "warnings.filterwarnings(\"ignore\")"
      ]
    },
    {
      "cell_type": "markdown",
      "id": "a4d00b18",
      "metadata": {
        "id": "a4d00b18"
      },
      "source": [
        "# Load data"
      ]
    },
    {
      "cell_type": "code",
      "execution_count": null,
      "id": "0fe15ea4",
      "metadata": {
        "id": "0fe15ea4"
      },
      "outputs": [],
      "source": [
        "data = pd.read_csv(\"./fake.csv\")"
      ]
    },
    {
      "cell_type": "markdown",
      "id": "c3e01553",
      "metadata": {
        "id": "c3e01553"
      },
      "source": [
        "## EDA"
      ]
    },
    {
      "cell_type": "markdown",
      "id": "d4813071",
      "metadata": {
        "id": "d4813071"
      },
      "source": [
        "-----------Check null values-----------"
      ]
    },
    {
      "cell_type": "code",
      "execution_count": null,
      "id": "ad057097",
      "metadata": {
        "id": "ad057097",
        "outputId": "f2dc202e-a2be-48b7-a09a-19f95bd6dd03"
      },
      "outputs": [
        {
          "data": {
            "text/plain": [
              "uuid                     0\n",
              "ord_in_thread            0\n",
              "author                2424\n",
              "published                0\n",
              "title                  680\n",
              "text                    46\n",
              "language                 0\n",
              "crawled                  0\n",
              "site_url                 0\n",
              "country                176\n",
              "domain_rank           4223\n",
              "thread_title            12\n",
              "spam_score               0\n",
              "main_img_url          3643\n",
              "replies_count            0\n",
              "participants_count       0\n",
              "likes                    0\n",
              "comments                 0\n",
              "shares                   0\n",
              "type                     0\n",
              "dtype: int64"
            ]
          },
          "execution_count": 352,
          "metadata": {},
          "output_type": "execute_result"
        }
      ],
      "source": [
        "data.isnull().sum()"
      ]
    },
    {
      "cell_type": "markdown",
      "id": "1a756127",
      "metadata": {
        "id": "1a756127"
      },
      "source": [
        "-----------\"Country\" counts-----------"
      ]
    },
    {
      "cell_type": "code",
      "execution_count": null,
      "id": "18b7af7e",
      "metadata": {
        "id": "18b7af7e",
        "outputId": "8d80a962-cefa-426c-af47-7cd3d5ad93f4"
      },
      "outputs": [
        {
          "data": {
            "text/plain": [
              "country\n",
              "US    10367\n",
              "GB      831\n",
              "RU      400\n",
              "DE      224\n",
              "FR      207\n",
              "TV      201\n",
              "EU      112\n",
              "CA      103\n",
              "IS      100\n",
              "ES      100\n",
              "NL       55\n",
              "ME       34\n",
              "IN       23\n",
              "BG       19\n",
              "CO       17\n",
              "LI       10\n",
              "IR        7\n",
              "EE        4\n",
              "ZA        3\n",
              "SG        2\n",
              "IO        1\n",
              "SE        1\n",
              "AU        1\n",
              "CH        1\n",
              "Name: count, dtype: int64"
            ]
          },
          "execution_count": 353,
          "metadata": {},
          "output_type": "execute_result"
        }
      ],
      "source": [
        "data.country.value_counts()"
      ]
    },
    {
      "cell_type": "markdown",
      "id": "f2029de3",
      "metadata": {
        "id": "f2029de3"
      },
      "source": [
        "-----------Decide to fill null country as US-----------"
      ]
    },
    {
      "cell_type": "code",
      "execution_count": null,
      "id": "69f299ae",
      "metadata": {
        "id": "69f299ae"
      },
      "outputs": [],
      "source": [
        "data.country.fillna(\"US\",inplace=True)"
      ]
    },
    {
      "cell_type": "markdown",
      "id": "45aacd3b",
      "metadata": {
        "id": "45aacd3b"
      },
      "source": [
        "-----------Type of news-----------"
      ]
    },
    {
      "cell_type": "code",
      "execution_count": null,
      "id": "8abac110",
      "metadata": {
        "id": "8abac110",
        "outputId": "4ba4f2b8-03a1-4260-cd4e-9bf2d0071cad"
      },
      "outputs": [
        {
          "data": {
            "text/plain": [
              "type\n",
              "bs            11492\n",
              "bias            443\n",
              "conspiracy      430\n",
              "hate            246\n",
              "satire          146\n",
              "state           121\n",
              "junksci         102\n",
              "fake             19\n",
              "Name: count, dtype: int64"
            ]
          },
          "execution_count": 355,
          "metadata": {},
          "output_type": "execute_result"
        }
      ],
      "source": [
        "data.type.value_counts()"
      ]
    },
    {
      "cell_type": "markdown",
      "id": "9afadb27",
      "metadata": {
        "id": "9afadb27"
      },
      "source": [
        "-----------Some languages appear in the data, but they can be outliers that affect the performance of the classifier due to their small size => better remove these outliers.-----------"
      ]
    },
    {
      "cell_type": "code",
      "execution_count": null,
      "id": "a511058a",
      "metadata": {
        "id": "a511058a"
      },
      "outputs": [],
      "source": [
        "value_counts=data.language.value_counts()\n",
        "to_remove=value_counts[value_counts<500].index\n",
        "data.replace(to_remove,np.nan,inplace=True)"
      ]
    },
    {
      "cell_type": "markdown",
      "id": "3ee57225",
      "metadata": {
        "id": "3ee57225"
      },
      "source": [
        "-----------Same with country-----------"
      ]
    },
    {
      "cell_type": "code",
      "execution_count": null,
      "id": "e89b5a51",
      "metadata": {
        "id": "e89b5a51"
      },
      "outputs": [],
      "source": [
        "value_counts=data.country.value_counts()\n",
        "to_remove=value_counts[value_counts<20].index\n",
        "data.replace(to_remove,np.nan,inplace=True)"
      ]
    },
    {
      "cell_type": "markdown",
      "id": "5c9ec2b3",
      "metadata": {
        "id": "5c9ec2b3"
      },
      "source": [
        "-----------------Revalue the spam scores of 0.0---------------"
      ]
    },
    {
      "cell_type": "code",
      "execution_count": null,
      "id": "ec2c0470",
      "metadata": {
        "id": "ec2c0470"
      },
      "outputs": [],
      "source": [
        "# data[data['spam_score']== 0.0].iloc[50:60]"
      ]
    },
    {
      "cell_type": "code",
      "execution_count": null,
      "id": "f4b1be39",
      "metadata": {
        "id": "f4b1be39"
      },
      "outputs": [],
      "source": [
        "\n",
        "def update_spam_score(row):\n",
        "    if row['spam_score'] == 0.0:\n",
        "        if row['participants_count'] == 0:\n",
        "            return 0.0\n",
        "        # Define thresholds for scaling\n",
        "        max_likes = 988\n",
        "        max_shares = 988\n",
        "        max_participants = 240\n",
        "        max_replies = 309\n",
        "        max_ord_in_thread = 100\n",
        "\n",
        "        # Normalize features\n",
        "        likes_factor = 1 - min(row['likes'] / max_likes, 1)\n",
        "        participants_factor = 1 - min(row['participants_count'] / max_participants, 1)\n",
        "        replies_factor = 1 - min(row['replies_count'] / max_replies, 1)\n",
        "        thread_order_factor = 1 - min(row['ord_in_thread'] / max_ord_in_thread, 1)\n",
        "        shares_factor = 1 - min(row['shares'] /  max_shares, 1)\n",
        "\n",
        "        # Weighted scaling (adjust weights as needed)\n",
        "        combined_factor = (\n",
        "            0.1 * likes_factor +\n",
        "            0.3 * participants_factor +\n",
        "            0.2 * replies_factor +\n",
        "            0.2 * thread_order_factor +\n",
        "            0.2 * shares_factor\n",
        "        )\n",
        "\n",
        "        # Weighted scaling (adjust weights as needed)\n",
        "        score = 0.1 + (0.1 * combined_factor)\n",
        "        return score\n",
        "    else:\n",
        "        return row['spam_score']\n",
        "\n",
        "# Apply the function to update the spam_score\n",
        "data['updated_spam_score'] = data.apply(update_spam_score, axis=1)\n"
      ]
    },
    {
      "cell_type": "code",
      "execution_count": null,
      "id": "22263f97",
      "metadata": {
        "id": "22263f97"
      },
      "outputs": [],
      "source": [
        "spam_arr = np.array(data['updated_spam_score'])\n",
        "\n",
        "# Define bins with a range of 0.1 each\n",
        "bins = np.arange(0, 1.1, 0.01)  # Bin edges from 0 to 1.0 with a step of 0.1\n",
        "\n",
        "# Bin the values\n",
        "binned_values = np.digitize(spam_arr, bins, right=False) - 1\n",
        "\n",
        "# Count the occurrences in each bin\n",
        "bin_counts = [np.sum(binned_values == i) for i in range(len(bins) - 1)]\n",
        "\n",
        "# Find the median\n",
        "median_value = np.median(spam_arr)"
      ]
    },
    {
      "cell_type": "code",
      "execution_count": null,
      "id": "4441b718",
      "metadata": {
        "id": "4441b718",
        "outputId": "6a8e1107-77aa-4261-a3c2-7ce7521faa39"
      },
      "outputs": [
        {
          "data": {
            "text/plain": [
              "0.19987500000000002"
            ]
          },
          "execution_count": 362,
          "metadata": {},
          "output_type": "execute_result"
        }
      ],
      "source": [
        "median_value"
      ]
    },
    {
      "cell_type": "code",
      "execution_count": null,
      "id": "a022a26f",
      "metadata": {
        "id": "a022a26f",
        "outputId": "48472b21-4fd7-45c6-d3e6-828b5085603a"
      },
      "outputs": [
        {
          "data": {
            "image/png": "[encoded data removed]",
            "text/plain": [
              "<Figure size 640x480 with 1 Axes>"
            ]
          },
          "metadata": {},
          "output_type": "display_data"
        }
      ],
      "source": [
        "# Plot the counts for each bin\n",
        "plt.bar(bins[:-1], bin_counts, width=0.01, align='edge', edgecolor='black')\n",
        "plt.xlabel(\"Bins (range 0.01)\")\n",
        "plt.ylabel(\"Count\")\n",
        "plt.title(\"Distribution of Spam Score by Bins\")\n",
        "plt.xticks(bins[:-1])\n",
        "plt.grid(axis='y', linestyle='--', alpha=0.7)\n",
        "plt.show()"
      ]
    },
    {
      "cell_type": "code",
      "execution_count": null,
      "id": "4e7ae5a7",
      "metadata": {
        "id": "4e7ae5a7"
      },
      "outputs": [],
      "source": [
        "news_type=[]\n",
        "for i in data[\"updated_spam_score\"]:\n",
        "    if(i<median_value):\n",
        "        news_type.append(0)\n",
        "    else:\n",
        "        news_type.append(1)\n",
        "data[\"news_type\"]=news_type"
      ]
    },
    {
      "cell_type": "markdown",
      "id": "364a3638",
      "metadata": {
        "id": "364a3638"
      },
      "source": [
        "-----------Drop invaluable columns and nan values-----------"
      ]
    },
    {
      "cell_type": "code",
      "execution_count": null,
      "id": "7e9cf17e",
      "metadata": {
        "id": "7e9cf17e"
      },
      "outputs": [],
      "source": [
        "columns=['uuid', 'ord_in_thread', 'published','language', 'crawled', 'domain_rank', 'replies_count','participants_count', 'likes', 'comments', 'shares',\"main_img_url\"]\n",
        "data.drop(columns,axis=1,inplace=True)\n",
        "data.dropna(axis=0,inplace=True)"
      ]
    },
    {
      "cell_type": "code",
      "execution_count": null,
      "id": "39e34f8c",
      "metadata": {
        "id": "39e34f8c"
      },
      "outputs": [],
      "source": [
        "# Step 1: Identify rows with scores between 0.18 and 0.2\n",
        "target_range = data[(data['updated_spam_score'] >= median_value) & (data['updated_spam_score'] < median_value + 0.01)]\n",
        "\n",
        "# Step 2: Randomly sample 20% of these rows\n",
        "sampled_indices = target_range.sample(frac=0.1, random_state=42).index\n",
        "\n",
        "# Step 3: Create the downsampled DataFrame\n",
        "downsampled_data = data.loc[sampled_indices]\n",
        "\n",
        "# Step 4: Filter out all rows in the target range from the original DataFrame\n",
        "non_target_data = data[(data['updated_spam_score'] < median_value) | (data['updated_spam_score'] >= median_value + 0.01)]\n",
        "\n",
        "# Step 5: Concatenate the non-target data with the downsampled data\n",
        "merged_data = pd.concat([non_target_data, downsampled_data], ignore_index=True)"
      ]
    },
    {
      "cell_type": "code",
      "execution_count": null,
      "id": "87032af2",
      "metadata": {
        "id": "87032af2",
        "outputId": "05f2979e-c607-46d7-a460-1b695df05a75"
      },
      "outputs": [
        {
          "data": {
            "text/plain": [
              "Counter({1: 1082, 0: 760})"
            ]
          },
          "execution_count": 383,
          "metadata": {},
          "output_type": "execute_result"
        }
      ],
      "source": [
        "from collections import Counter\n",
        "Counter(merged_data['news_type'])"
      ]
    },
    {
      "cell_type": "code",
      "execution_count": null,
      "id": "c4db88b5",
      "metadata": {
        "id": "c4db88b5",
        "outputId": "93fc9557-80a5-4b00-d48e-6891ff7fc65c"
      },
      "outputs": [
        {
          "data": {
            "text/plain": [
              "author                0\n",
              "title                 0\n",
              "text                  0\n",
              "site_url              0\n",
              "country               0\n",
              "thread_title          0\n",
              "spam_score            0\n",
              "type                  0\n",
              "updated_spam_score    0\n",
              "news_type             0\n",
              "dtype: int64"
            ]
          },
          "execution_count": 384,
          "metadata": {},
          "output_type": "execute_result"
        }
      ],
      "source": [
        "merged_data.isnull().sum()"
      ]
    },
    {
      "cell_type": "code",
      "execution_count": null,
      "id": "ae8430d0",
      "metadata": {
        "scrolled": true,
        "id": "ae8430d0",
        "outputId": "38f44130-d08e-43e0-f236-732613234762"
      },
      "outputs": [
        {
          "data": {
            "text/html": [
              "<div>\n",
              "<style scoped>\n",
              "    .dataframe tbody tr th:only-of-type {\n",
              "        vertical-align: middle;\n",
              "    }\n",
              "\n",
              "    .dataframe tbody tr th {\n",
              "        vertical-align: top;\n",
              "    }\n",
              "\n",
              "    .dataframe thead th {\n",
              "        text-align: right;\n",
              "    }\n",
              "</style>\n",
              "<table border=\"1\" class=\"dataframe\">\n",
              "  <thead>\n",
              "    <tr style=\"text-align: right;\">\n",
              "      <th></th>\n",
              "      <th>author</th>\n",
              "      <th>title</th>\n",
              "      <th>text</th>\n",
              "      <th>site_url</th>\n",
              "      <th>country</th>\n",
              "      <th>thread_title</th>\n",
              "      <th>spam_score</th>\n",
              "      <th>type</th>\n",
              "      <th>updated_spam_score</th>\n",
              "      <th>news_type</th>\n",
              "    </tr>\n",
              "  </thead>\n",
              "  <tbody>\n",
              "    <tr>\n",
              "      <th>0</th>\n",
              "      <td>Fed Up</td>\n",
              "      <td>PIN DROP SPEECH BY FATHER OF DAUGHTER Kidnappe...</td>\n",
              "      <td>Email Kayla Mueller was a prisoner and torture...</td>\n",
              "      <td>100percentfedup.com</td>\n",
              "      <td>US</td>\n",
              "      <td>PIN DROP SPEECH BY FATHER OF DAUGHTER Kidnappe...</td>\n",
              "      <td>0.068</td>\n",
              "      <td>bias</td>\n",
              "      <td>0.068</td>\n",
              "      <td>0</td>\n",
              "    </tr>\n",
              "    <tr>\n",
              "      <th>1</th>\n",
              "      <td>Fed Up</td>\n",
              "      <td>FANTASTIC! TRUMP'S 7 POINT PLAN To Reform Heal...</td>\n",
              "      <td>Email HEALTHCARE REFORM TO MAKE AMERICA GREAT ...</td>\n",
              "      <td>100percentfedup.com</td>\n",
              "      <td>US</td>\n",
              "      <td>FANTASTIC! TRUMP'S 7 POINT PLAN To Reform Heal...</td>\n",
              "      <td>0.865</td>\n",
              "      <td>bias</td>\n",
              "      <td>0.865</td>\n",
              "      <td>1</td>\n",
              "    </tr>\n",
              "    <tr>\n",
              "      <th>2</th>\n",
              "      <td>Fed Up</td>\n",
              "      <td>BREAKING! NYPD Ready To Make Arrests In Weiner...</td>\n",
              "      <td>BREAKING! NYPD Ready To Make Arrests In Weiner...</td>\n",
              "      <td>100percentfedup.com</td>\n",
              "      <td>US</td>\n",
              "      <td>BREAKING! NYPD Ready To Make Arrests In Weiner...</td>\n",
              "      <td>0.701</td>\n",
              "      <td>bias</td>\n",
              "      <td>0.701</td>\n",
              "      <td>1</td>\n",
              "    </tr>\n",
              "    <tr>\n",
              "      <th>3</th>\n",
              "      <td>Fed Up</td>\n",
              "      <td>WOW! WHISTLEBLOWER TELLS CHILLING STORY Of Mas...</td>\n",
              "      <td>BREAKING! NYPD Ready To Make Arrests In Weiner...</td>\n",
              "      <td>100percentfedup.com</td>\n",
              "      <td>US</td>\n",
              "      <td>WOW! WHISTLEBLOWER TELLS CHILLING STORY Of Mas...</td>\n",
              "      <td>0.188</td>\n",
              "      <td>bias</td>\n",
              "      <td>0.188</td>\n",
              "      <td>0</td>\n",
              "    </tr>\n",
              "    <tr>\n",
              "      <th>4</th>\n",
              "      <td>Fed Up</td>\n",
              "      <td>BREAKING: CLINTON CLEARED...Was This A Coordin...</td>\n",
              "      <td>\\nLimbaugh said that the revelations in the Wi...</td>\n",
              "      <td>100percentfedup.com</td>\n",
              "      <td>US</td>\n",
              "      <td>BREAKING: CLINTON CLEARED...Was This A Coordin...</td>\n",
              "      <td>0.144</td>\n",
              "      <td>bias</td>\n",
              "      <td>0.144</td>\n",
              "      <td>0</td>\n",
              "    </tr>\n",
              "  </tbody>\n",
              "</table>\n",
              "</div>"
            ],
            "text/plain": [
              "   author                                              title  \\\n",
              "0  Fed Up  PIN DROP SPEECH BY FATHER OF DAUGHTER Kidnappe...   \n",
              "1  Fed Up  FANTASTIC! TRUMP'S 7 POINT PLAN To Reform Heal...   \n",
              "2  Fed Up  BREAKING! NYPD Ready To Make Arrests In Weiner...   \n",
              "3  Fed Up  WOW! WHISTLEBLOWER TELLS CHILLING STORY Of Mas...   \n",
              "4  Fed Up  BREAKING: CLINTON CLEARED...Was This A Coordin...   \n",
              "\n",
              "                                                text             site_url  \\\n",
              "0  Email Kayla Mueller was a prisoner and torture...  100percentfedup.com   \n",
              "1  Email HEALTHCARE REFORM TO MAKE AMERICA GREAT ...  100percentfedup.com   \n",
              "2  BREAKING! NYPD Ready To Make Arrests In Weiner...  100percentfedup.com   \n",
              "3  BREAKING! NYPD Ready To Make Arrests In Weiner...  100percentfedup.com   \n",
              "4  \\nLimbaugh said that the revelations in the Wi...  100percentfedup.com   \n",
              "\n",
              "  country                                       thread_title  spam_score  \\\n",
              "0      US  PIN DROP SPEECH BY FATHER OF DAUGHTER Kidnappe...       0.068   \n",
              "1      US  FANTASTIC! TRUMP'S 7 POINT PLAN To Reform Heal...       0.865   \n",
              "2      US  BREAKING! NYPD Ready To Make Arrests In Weiner...       0.701   \n",
              "3      US  WOW! WHISTLEBLOWER TELLS CHILLING STORY Of Mas...       0.188   \n",
              "4      US  BREAKING: CLINTON CLEARED...Was This A Coordin...       0.144   \n",
              "\n",
              "   type  updated_spam_score  news_type  \n",
              "0  bias               0.068          0  \n",
              "1  bias               0.865          1  \n",
              "2  bias               0.701          1  \n",
              "3  bias               0.188          0  \n",
              "4  bias               0.144          0  "
            ]
          },
          "execution_count": 385,
          "metadata": {},
          "output_type": "execute_result"
        }
      ],
      "source": [
        "merged_data.head(5)"
      ]
    },
    {
      "cell_type": "markdown",
      "id": "8d130f74",
      "metadata": {
        "id": "8d130f74"
      },
      "source": [
        "## Preprocess text"
      ]
    },
    {
      "cell_type": "code",
      "execution_count": null,
      "id": "eb1da1e3",
      "metadata": {
        "id": "eb1da1e3"
      },
      "outputs": [],
      "source": [
        "stop_words=stopwords.words(\"english\")\n",
        "def stemmer(txt):\n",
        "    #txt=txt.lower()\n",
        "    words=word_tokenize(txt)\n",
        "    words=[w for w in words if w.isalpha()]\n",
        "    words=[w for w in words if not w in stop_words]\n",
        "    return( \" \".join(words ))"
      ]
    },
    {
      "cell_type": "code",
      "execution_count": null,
      "id": "39502ed4",
      "metadata": {
        "id": "39502ed4"
      },
      "outputs": [],
      "source": [
        "merged_data[\"title\"]=merged_data[\"title\"].apply(stemmer)\n",
        "merged_data[\"text\"]=merged_data[\"text\"].apply(stemmer)\n",
        "merged_data[\"thread_title\"]=merged_data[\"thread_title\"].apply(stemmer)"
      ]
    },
    {
      "cell_type": "markdown",
      "id": "96f89606",
      "metadata": {
        "id": "96f89606"
      },
      "source": [
        "---------TFIDF to vectorize words---------"
      ]
    },
    {
      "cell_type": "code",
      "execution_count": null,
      "id": "9b486f58",
      "metadata": {
        "id": "9b486f58"
      },
      "outputs": [],
      "source": [
        "tfidf=TfidfVectorizer()"
      ]
    },
    {
      "cell_type": "code",
      "execution_count": null,
      "id": "59c82843",
      "metadata": {
        "id": "59c82843"
      },
      "outputs": [],
      "source": [
        "merged_data[\"title\"]=tfidf.fit_transform(merged_data[\"title\"]).toarray()"
      ]
    },
    {
      "cell_type": "code",
      "execution_count": null,
      "id": "120c9449",
      "metadata": {
        "id": "120c9449"
      },
      "outputs": [],
      "source": [
        "merged_data[\"text\"]=tfidf.fit_transform(merged_data[\"text\"]).toarray()"
      ]
    },
    {
      "cell_type": "code",
      "execution_count": null,
      "id": "928a9ab2",
      "metadata": {
        "id": "928a9ab2"
      },
      "outputs": [],
      "source": [
        "merged_data[\"thread_title\"]=tfidf.fit_transform(merged_data[\"thread_title\"]).toarray()"
      ]
    },
    {
      "cell_type": "code",
      "execution_count": null,
      "id": "5071610e",
      "metadata": {
        "id": "5071610e"
      },
      "outputs": [],
      "source": [
        "merged_data[\"author\"]=tfidf.fit_transform(merged_data[\"author\"]).toarray()"
      ]
    },
    {
      "cell_type": "code",
      "execution_count": null,
      "id": "1a90cd5c",
      "metadata": {
        "id": "1a90cd5c"
      },
      "outputs": [],
      "source": [
        "merged_data[\"site_url\"]=tfidf.fit_transform(merged_data[\"site_url\"]).toarray()"
      ]
    },
    {
      "cell_type": "code",
      "execution_count": null,
      "id": "09835847",
      "metadata": {
        "id": "09835847",
        "outputId": "6104ad17-aaab-4c4a-f353-03c3d5a1a774"
      },
      "outputs": [
        {
          "data": {
            "text/html": [
              "<div>\n",
              "<style scoped>\n",
              "    .dataframe tbody tr th:only-of-type {\n",
              "        vertical-align: middle;\n",
              "    }\n",
              "\n",
              "    .dataframe tbody tr th {\n",
              "        vertical-align: top;\n",
              "    }\n",
              "\n",
              "    .dataframe thead th {\n",
              "        text-align: right;\n",
              "    }\n",
              "</style>\n",
              "<table border=\"1\" class=\"dataframe\">\n",
              "  <thead>\n",
              "    <tr style=\"text-align: right;\">\n",
              "      <th></th>\n",
              "      <th>author</th>\n",
              "      <th>title</th>\n",
              "      <th>text</th>\n",
              "      <th>site_url</th>\n",
              "      <th>country</th>\n",
              "      <th>thread_title</th>\n",
              "      <th>spam_score</th>\n",
              "      <th>type</th>\n",
              "      <th>updated_spam_score</th>\n",
              "      <th>news_type</th>\n",
              "    </tr>\n",
              "  </thead>\n",
              "  <tbody>\n",
              "    <tr>\n",
              "      <th>0</th>\n",
              "      <td>0.0</td>\n",
              "      <td>0.0</td>\n",
              "      <td>0.0</td>\n",
              "      <td>0.977506</td>\n",
              "      <td>US</td>\n",
              "      <td>0.0</td>\n",
              "      <td>0.068</td>\n",
              "      <td>bias</td>\n",
              "      <td>0.068</td>\n",
              "      <td>0</td>\n",
              "    </tr>\n",
              "    <tr>\n",
              "      <th>1</th>\n",
              "      <td>0.0</td>\n",
              "      <td>0.0</td>\n",
              "      <td>0.0</td>\n",
              "      <td>0.977506</td>\n",
              "      <td>US</td>\n",
              "      <td>0.0</td>\n",
              "      <td>0.865</td>\n",
              "      <td>bias</td>\n",
              "      <td>0.865</td>\n",
              "      <td>1</td>\n",
              "    </tr>\n",
              "    <tr>\n",
              "      <th>2</th>\n",
              "      <td>0.0</td>\n",
              "      <td>0.0</td>\n",
              "      <td>0.0</td>\n",
              "      <td>0.977506</td>\n",
              "      <td>US</td>\n",
              "      <td>0.0</td>\n",
              "      <td>0.701</td>\n",
              "      <td>bias</td>\n",
              "      <td>0.701</td>\n",
              "      <td>1</td>\n",
              "    </tr>\n",
              "    <tr>\n",
              "      <th>3</th>\n",
              "      <td>0.0</td>\n",
              "      <td>0.0</td>\n",
              "      <td>0.0</td>\n",
              "      <td>0.977506</td>\n",
              "      <td>US</td>\n",
              "      <td>0.0</td>\n",
              "      <td>0.188</td>\n",
              "      <td>bias</td>\n",
              "      <td>0.188</td>\n",
              "      <td>0</td>\n",
              "    </tr>\n",
              "    <tr>\n",
              "      <th>4</th>\n",
              "      <td>0.0</td>\n",
              "      <td>0.0</td>\n",
              "      <td>0.0</td>\n",
              "      <td>0.977506</td>\n",
              "      <td>US</td>\n",
              "      <td>0.0</td>\n",
              "      <td>0.144</td>\n",
              "      <td>bias</td>\n",
              "      <td>0.144</td>\n",
              "      <td>0</td>\n",
              "    </tr>\n",
              "  </tbody>\n",
              "</table>\n",
              "</div>"
            ],
            "text/plain": [
              "   author  title  text  site_url country  thread_title  spam_score  type  \\\n",
              "0     0.0    0.0   0.0  0.977506      US           0.0       0.068  bias   \n",
              "1     0.0    0.0   0.0  0.977506      US           0.0       0.865  bias   \n",
              "2     0.0    0.0   0.0  0.977506      US           0.0       0.701  bias   \n",
              "3     0.0    0.0   0.0  0.977506      US           0.0       0.188  bias   \n",
              "4     0.0    0.0   0.0  0.977506      US           0.0       0.144  bias   \n",
              "\n",
              "   updated_spam_score  news_type  \n",
              "0               0.068          0  \n",
              "1               0.865          1  \n",
              "2               0.701          1  \n",
              "3               0.188          0  \n",
              "4               0.144          0  "
            ]
          },
          "execution_count": 394,
          "metadata": {},
          "output_type": "execute_result"
        }
      ],
      "source": [
        "merged_data.head(5)"
      ]
    },
    {
      "cell_type": "code",
      "execution_count": null,
      "id": "6aa945a6",
      "metadata": {
        "id": "6aa945a6",
        "outputId": "0bfdec4d-fd67-48b5-f34c-f29a0c1ee44d"
      },
      "outputs": [
        {
          "data": {
            "text/plain": [
              "(1842, 10)"
            ]
          },
          "execution_count": 395,
          "metadata": {},
          "output_type": "execute_result"
        }
      ],
      "source": [
        "merged_data.shape"
      ]
    },
    {
      "cell_type": "code",
      "execution_count": null,
      "id": "eb67bf97",
      "metadata": {
        "id": "eb67bf97"
      },
      "outputs": [],
      "source": [
        "merged_data.drop([\"spam_score\", \"updated_spam_score\"],axis=1,inplace=True)"
      ]
    },
    {
      "cell_type": "code",
      "execution_count": null,
      "id": "9653b3ca",
      "metadata": {
        "id": "9653b3ca",
        "outputId": "37d96496-f8b3-411b-fa78-068501a456d1"
      },
      "outputs": [
        {
          "data": {
            "text/html": [
              "<div>\n",
              "<style scoped>\n",
              "    .dataframe tbody tr th:only-of-type {\n",
              "        vertical-align: middle;\n",
              "    }\n",
              "\n",
              "    .dataframe tbody tr th {\n",
              "        vertical-align: top;\n",
              "    }\n",
              "\n",
              "    .dataframe thead th {\n",
              "        text-align: right;\n",
              "    }\n",
              "</style>\n",
              "<table border=\"1\" class=\"dataframe\">\n",
              "  <thead>\n",
              "    <tr style=\"text-align: right;\">\n",
              "      <th></th>\n",
              "      <th>author</th>\n",
              "      <th>title</th>\n",
              "      <th>text</th>\n",
              "      <th>site_url</th>\n",
              "      <th>country</th>\n",
              "      <th>thread_title</th>\n",
              "      <th>type</th>\n",
              "      <th>news_type</th>\n",
              "    </tr>\n",
              "  </thead>\n",
              "  <tbody>\n",
              "    <tr>\n",
              "      <th>0</th>\n",
              "      <td>0.0</td>\n",
              "      <td>0.0</td>\n",
              "      <td>0.0</td>\n",
              "      <td>0.977506</td>\n",
              "      <td>US</td>\n",
              "      <td>0.0</td>\n",
              "      <td>bias</td>\n",
              "      <td>0</td>\n",
              "    </tr>\n",
              "    <tr>\n",
              "      <th>1</th>\n",
              "      <td>0.0</td>\n",
              "      <td>0.0</td>\n",
              "      <td>0.0</td>\n",
              "      <td>0.977506</td>\n",
              "      <td>US</td>\n",
              "      <td>0.0</td>\n",
              "      <td>bias</td>\n",
              "      <td>1</td>\n",
              "    </tr>\n",
              "    <tr>\n",
              "      <th>2</th>\n",
              "      <td>0.0</td>\n",
              "      <td>0.0</td>\n",
              "      <td>0.0</td>\n",
              "      <td>0.977506</td>\n",
              "      <td>US</td>\n",
              "      <td>0.0</td>\n",
              "      <td>bias</td>\n",
              "      <td>1</td>\n",
              "    </tr>\n",
              "    <tr>\n",
              "      <th>3</th>\n",
              "      <td>0.0</td>\n",
              "      <td>0.0</td>\n",
              "      <td>0.0</td>\n",
              "      <td>0.977506</td>\n",
              "      <td>US</td>\n",
              "      <td>0.0</td>\n",
              "      <td>bias</td>\n",
              "      <td>0</td>\n",
              "    </tr>\n",
              "    <tr>\n",
              "      <th>4</th>\n",
              "      <td>0.0</td>\n",
              "      <td>0.0</td>\n",
              "      <td>0.0</td>\n",
              "      <td>0.977506</td>\n",
              "      <td>US</td>\n",
              "      <td>0.0</td>\n",
              "      <td>bias</td>\n",
              "      <td>0</td>\n",
              "    </tr>\n",
              "  </tbody>\n",
              "</table>\n",
              "</div>"
            ],
            "text/plain": [
              "   author  title  text  site_url country  thread_title  type  news_type\n",
              "0     0.0    0.0   0.0  0.977506      US           0.0  bias          0\n",
              "1     0.0    0.0   0.0  0.977506      US           0.0  bias          1\n",
              "2     0.0    0.0   0.0  0.977506      US           0.0  bias          1\n",
              "3     0.0    0.0   0.0  0.977506      US           0.0  bias          0\n",
              "4     0.0    0.0   0.0  0.977506      US           0.0  bias          0"
            ]
          },
          "execution_count": 397,
          "metadata": {},
          "output_type": "execute_result"
        }
      ],
      "source": [
        "merged_data.head(5)"
      ]
    },
    {
      "cell_type": "markdown",
      "id": "48b16251",
      "metadata": {
        "id": "48b16251"
      },
      "source": [
        "# Classifier"
      ]
    },
    {
      "cell_type": "markdown",
      "id": "42e29b6f",
      "metadata": {
        "id": "42e29b6f"
      },
      "source": [
        "## Train_Test_Split"
      ]
    },
    {
      "cell_type": "code",
      "execution_count": null,
      "id": "a5d08616",
      "metadata": {
        "id": "a5d08616"
      },
      "outputs": [],
      "source": [
        "ml_data=pd.get_dummies(data=merged_data,columns=[\"country\",\"type\"])"
      ]
    },
    {
      "cell_type": "code",
      "execution_count": null,
      "id": "b7e969cb",
      "metadata": {
        "id": "b7e969cb"
      },
      "outputs": [],
      "source": [
        "y=ml_data[\"news_type\"].values\n",
        "x=ml_data.drop(\"news_type\",axis=1)\n",
        "x=x.values"
      ]
    },
    {
      "cell_type": "code",
      "execution_count": null,
      "id": "dc01d84e",
      "metadata": {
        "id": "dc01d84e"
      },
      "outputs": [],
      "source": [
        "x_train,x_test,y_train,y_test=train_test_split(x,y,test_size=0.2,random_state=0)"
      ]
    },
    {
      "cell_type": "markdown",
      "id": "1dca338f",
      "metadata": {
        "id": "1dca338f"
      },
      "source": [
        "## All ML Classifiers"
      ]
    },
    {
      "cell_type": "code",
      "execution_count": null,
      "id": "d0285392",
      "metadata": {
        "id": "d0285392"
      },
      "outputs": [],
      "source": [
        "LR=LogisticRegression()\n",
        "model_LR=LR.fit(x_train,y_train)\n",
        "\n",
        "KNN=KNeighborsClassifier()\n",
        "model_KNN=KNN.fit(x_train,y_train)\n",
        "\n",
        "DTC=DecisionTreeClassifier(random_state=0)\n",
        "model_DTC=DTC.fit(x_train,y_train)\n",
        "\n",
        "RFC=RandomForestClassifier(random_state=0)\n",
        "model_RFC=RFC.fit(x_train,y_train)\n",
        "\n",
        "GBC=GradientBoostingClassifier(random_state=0)\n",
        "model_GBC=GBC.fit(x_train,y_train)\n",
        "#XGBoost\n",
        "XGB=XGBClassifier()\n",
        "model_XGB=XGB.fit(x_train,y_train)"
      ]
    },
    {
      "cell_type": "code",
      "execution_count": null,
      "id": "a4b79d7a",
      "metadata": {
        "scrolled": false,
        "id": "a4b79d7a",
        "outputId": "f44adcae-1668-4d71-c014-3f30952ed0fe"
      },
      "outputs": [
        {
          "name": "stdout",
          "output_type": "stream",
          "text": [
            "LogisticRegression:\n",
            "********************\n",
            "R-squared\n",
            "0.675\n",
            "Error\n",
            "0.570087712549569\n",
            "Classification Report\n",
            "              precision    recall  f1-score   support\n",
            "\n",
            "           0       0.73      0.24      0.37       147\n",
            "           1       0.65      0.94      0.77       222\n",
            "\n",
            "    accuracy                           0.66       369\n",
            "   macro avg       0.69      0.59      0.57       369\n",
            "weighted avg       0.69      0.66      0.61       369\n",
            "\n",
            "Accuracy\n",
            "0.6639566395663956\n",
            "********************\n",
            "KNeighborsClassifier:\n",
            "********************\n",
            "R-squared\n",
            "0.6507507507507508\n",
            "Error\n",
            "0.5909731375022466\n",
            "Classification Report\n",
            "              precision    recall  f1-score   support\n",
            "\n",
            "           0       0.44      0.94      0.60       147\n",
            "           1       0.84      0.21      0.33       222\n",
            "\n",
            "    accuracy                           0.50       369\n",
            "   macro avg       0.64      0.57      0.47       369\n",
            "weighted avg       0.68      0.50      0.44       369\n",
            "\n",
            "Accuracy\n",
            "0.4986449864498645\n",
            "********************\n",
            "DecisionTreeClassifier:\n",
            "********************\n",
            "R-squared\n",
            "0.6777777777777778\n",
            "Error\n",
            "0.5676462121975467\n",
            "Classification Report\n",
            "              precision    recall  f1-score   support\n",
            "\n",
            "           0       0.72      0.24      0.37       147\n",
            "           1       0.65      0.94      0.77       222\n",
            "\n",
            "    accuracy                           0.66       369\n",
            "   macro avg       0.69      0.59      0.57       369\n",
            "weighted avg       0.68      0.66      0.61       369\n",
            "\n",
            "Accuracy\n",
            "0.6612466124661247\n",
            "********************\n",
            "RandomForestClassifier:\n",
            "********************\n",
            "R-squared\n",
            "0.6750750750750751\n",
            "Error\n",
            "0.5700218635499212\n",
            "Classification Report\n",
            "              precision    recall  f1-score   support\n",
            "\n",
            "           0       0.72      0.24      0.37       147\n",
            "           1       0.65      0.94      0.77       222\n",
            "\n",
            "    accuracy                           0.66       369\n",
            "   macro avg       0.69      0.59      0.57       369\n",
            "weighted avg       0.68      0.66      0.61       369\n",
            "\n",
            "Accuracy\n",
            "0.6612466124661247\n",
            "********************\n",
            "GradientBoostingClassifier:\n",
            "********************\n",
            "R-squared\n",
            "0.6695945945945946\n",
            "Error\n",
            "0.5748090164614725\n",
            "Classification Report\n",
            "              precision    recall  f1-score   support\n",
            "\n",
            "           0       0.72      0.24      0.37       147\n",
            "           1       0.65      0.94      0.77       222\n",
            "\n",
            "    accuracy                           0.66       369\n",
            "   macro avg       0.69      0.59      0.57       369\n",
            "weighted avg       0.68      0.66      0.61       369\n",
            "\n",
            "Accuracy\n",
            "0.6612466124661247\n",
            "********************\n",
            "XGBClassifier:\n",
            "********************\n",
            "R-squared\n",
            "0.6804804804804806\n",
            "Error\n",
            "0.5652605766542715\n",
            "Classification Report\n",
            "              precision    recall  f1-score   support\n",
            "\n",
            "           0       0.72      0.24      0.37       147\n",
            "           1       0.65      0.94      0.77       222\n",
            "\n",
            "    accuracy                           0.66       369\n",
            "   macro avg       0.69      0.59      0.57       369\n",
            "weighted avg       0.68      0.66      0.61       369\n",
            "\n",
            "Accuracy\n",
            "0.6612466124661247\n",
            "********************\n"
          ]
        },
        {
          "data": {
            "image/png": "[encoded data removed]",
            "text/plain": [
              "<Figure size 1000x700 with 1 Axes>"
            ]
          },
          "metadata": {},
          "output_type": "display_data"
        }
      ],
      "source": [
        "from sklearn.metrics import roc_curve, auc, accuracy_score, classification_report, RocCurveDisplay\n",
        "from sklearn.model_selection import cross_val_score\n",
        "import matplotlib.pyplot as plt\n",
        "import numpy as np\n",
        "\n",
        "# Initialize lists for results\n",
        "models = [model_LR, model_KNN, model_DTC, model_RFC, model_GBC, model_XGB]\n",
        "r2_scores = []\n",
        "errors = []\n",
        "accuracies = []\n",
        "\n",
        "# Start plotting ROC curves\n",
        "plt.figure(figsize=(10, 7))\n",
        "\n",
        "for model in models:\n",
        "    name = model.__class__.__name__\n",
        "\n",
        "    # Train the model\n",
        "    model.fit(x_train, y_train)\n",
        "\n",
        "    # Cross-validation scores\n",
        "    R2 = cross_val_score(model, x_test, y_test, cv=10, verbose=False).mean()\n",
        "    error = -cross_val_score(model, x_test, y_test, cv=10, scoring=\"neg_mean_squared_error\", verbose=False).mean()\n",
        "\n",
        "    # Predict on the test set\n",
        "    predict = model.predict(x_test)\n",
        "    accuracy = accuracy_score(y_test, predict)\n",
        "\n",
        "    r2_scores.append(R2)\n",
        "    errors.append(error)\n",
        "    accuracies.append(accuracy)\n",
        "\n",
        "    print(name + \":\")\n",
        "    print(\"*\" * 20)\n",
        "    print(\"R-squared\")\n",
        "    print(R2)\n",
        "    print(\"Error\")\n",
        "    print(np.sqrt(error))\n",
        "    print(\"Classification Report\")\n",
        "    print(classification_report(y_test, predict))\n",
        "    print(\"Accuracy\")\n",
        "    print(accuracy)\n",
        "    print(\"*\" * 20)\n",
        "\n",
        "    # Compute ROC curve and AUC\n",
        "    if hasattr(model, \"predict_proba\"):  # For models with predict_proba\n",
        "        probs = model.predict_proba(x_test)[:, 1]\n",
        "    elif hasattr(model, \"decision_function\"):  # For models with decision_function\n",
        "        probs = model.decision_function(x_test)\n",
        "    else:\n",
        "        print(f\"{name} does not support probability predictions.\")\n",
        "        continue\n",
        "\n",
        "    fpr, tpr, _ = roc_curve(y_test, probs)\n",
        "    roc_auc = auc(fpr, tpr)\n",
        "\n",
        "    # Plot the ROC curve\n",
        "    plt.plot(fpr, tpr, label=f\"{name} (AUC = {roc_auc:.2f})\")\n",
        "\n",
        "# Finalize the ROC curve plot\n",
        "plt.plot([0, 1], [0, 1], color=\"navy\", linestyle=\"--\", label=\"Chance\")\n",
        "plt.xlabel(\"False Positive Rate\")\n",
        "plt.ylabel(\"True Positive Rate\")\n",
        "plt.title(\"ROC Curve Comparison\")\n",
        "plt.legend(loc=\"lower right\")\n",
        "plt.grid(alpha=0.3)\n",
        "plt.show()\n"
      ]
    },
    {
      "cell_type": "code",
      "execution_count": null,
      "id": "c9d455ab",
      "metadata": {
        "id": "c9d455ab"
      },
      "outputs": [],
      "source": [
        "# Plotting metrics\n",
        "x_labels = [model.__class__.__name__ for model in models]"
      ]
    },
    {
      "cell_type": "code",
      "execution_count": null,
      "id": "fce6bff2",
      "metadata": {
        "id": "fce6bff2",
        "outputId": "7bbfd084-990c-479f-d3f5-c8100d491801"
      },
      "outputs": [
        {
          "data": {
            "image/png": "[encoded data removed]",
            "text/plain": [
              "<Figure size 1000x600 with 1 Axes>"
            ]
          },
          "metadata": {},
          "output_type": "display_data"
        }
      ],
      "source": [
        "# Plot Errors\n",
        "plt.figure(figsize=(10, 6))\n",
        "plt.bar(x_labels, errors, alpha=0.7, label=\"Error (RMSE)\", color=\"orange\")\n",
        "plt.ylabel(\"Error (RMSE)\")\n",
        "plt.title(\"Model Evaluation: Errors\")\n",
        "plt.xticks(rotation=45)\n",
        "plt.show()"
      ]
    },
    {
      "cell_type": "code",
      "execution_count": null,
      "id": "9c6dfebb",
      "metadata": {
        "id": "9c6dfebb",
        "outputId": "597a9b29-e3d0-416c-f06e-c82625e9581c"
      },
      "outputs": [
        {
          "data": {
            "image/png": "[encoded data removed]",
            "text/plain": [
              "<Figure size 1000x600 with 1 Axes>"
            ]
          },
          "metadata": {},
          "output_type": "display_data"
        }
      ],
      "source": [
        "# Plot Accuracies\n",
        "plt.figure(figsize=(10, 6))\n",
        "plt.bar(x_labels, accuracies, alpha=0.7, label=\"Accuracy\", color=\"green\")\n",
        "plt.ylabel(\"Accuracy\")\n",
        "plt.title(\"Model Evaluation: Accuracy\")\n",
        "plt.xticks(rotation=45)\n",
        "plt.show()"
      ]
    },
    {
      "cell_type": "code",
      "execution_count": null,
      "id": "92563d0e",
      "metadata": {
        "id": "92563d0e"
      },
      "outputs": [],
      "source": []
    },
    {
      "cell_type": "code",
      "execution_count": null,
      "id": "4b321874",
      "metadata": {
        "id": "4b321874"
      },
      "outputs": [],
      "source": []
    }
  ],
  "metadata": {
    "kernelspec": {
      "display_name": "base",
      "language": "python",
      "name": "python3"
    },
    "language_info": {
      "codemirror_mode": {
        "name": "ipython",
        "version": 3
      },
      "file_extension": ".py",
      "mimetype": "text/x-python",
      "name": "python",
      "nbconvert_exporter": "python",
      "pygments_lexer": "ipython3",
      "version": "3.11.5"
    },
    "colab": {
      "provenance": []
    }
  },
  "nbformat": 4,
  "nbformat_minor": 5
}